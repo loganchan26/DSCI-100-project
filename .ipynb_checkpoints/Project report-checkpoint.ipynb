{
 "cells": [
  {
   "cell_type": "markdown",
   "id": "0b27523e-680a-414c-a7e8-b435abad2972",
   "metadata": {},
   "source": [
    "## Predicting Pulsars: Mean, Standard Deviation and Kurtosis Analysis"
   ]
  },
  {
   "cell_type": "markdown",
   "id": "a4147439-b95c-4b6f-a6a3-5efce57d12d1",
   "metadata": {},
   "source": [
    "**Logan Chan, Sam Donato, Navneet Bedi, Ahadjon Sultonov**"
   ]
  },
  {
   "cell_type": "markdown",
   "id": "6d27f9f4-ce3c-4294-bc3f-2cc43df1098c",
   "metadata": {},
   "source": [
    "### Introduction"
   ]
  },
  {
   "cell_type": "markdown",
   "id": "e2c3d298-4923-4eba-af43-84623d02a324",
   "metadata": {},
   "source": [
    "Pulsars were first discovered in 1967 by astronomers Jocelyn Bell Burnell and Antony Hewish (American Physical Society, 2006). \n",
    "\n",
    "A pulsar is a rotating neutron star that is highly magnetized, causing them to emit beams of radiation. These stars provided the first indirect evidence for the existence of gravitational waves. Pulsar stars also have the potential to reveal extreme phenomena in neutron star astrophysics (Zhang et al., 2020. "
   ]
  },
  {
   "cell_type": "markdown",
   "id": "02e39377-752c-4501-ae1d-457e516e9a66",
   "metadata": {},
   "source": [
    "Thus, in effect, pulsars can be thought of as 'cosmic lighthouses.'\n",
    "\n",
    "These beams can appear to pulse as the star rotates, but other astronomical phenomena in space can mimic these pulsar signals, which we call spurious signals. The spurious signals can be challenging to identify and seperate from pulsar signals (Gaskill, 2020). "
   ]
  },
  {
   "cell_type": "markdown",
   "id": "85176650-863f-4895-bc0b-7984108d7e8b",
   "metadata": {},
   "source": [
    "The goal of this project will be to use variables from the HTRU2 UC Irvine Machine Learning Repository Pulsar Star Dataset to classify whether a star is pulsar or not.\n",
    "\n",
    "HTRU2 is a data set which describes a sample of pulsar candidates collected during the High Time Resolution Universe Survey (South). The data set shared contains 16,259 spurious examples caused by RFI/noise, and 1,639 real pulsar examples (Lyon, 2017).  In the data set, legitimate pulsar examples are a minority positive class, and spurious examples are the majority negative class. The class labels used are 0 (negative) and 1 (positive). Due to the number of predictor variables, we only chose a few potentially important predictors to focus on for the preliminary analysis."
   ]
  },
  {
   "cell_type": "markdown",
   "id": "4a72ac0e-aa0d-4093-ad25-ed7adaebe3cc",
   "metadata": {},
   "source": [
    "The question we will be addressing is: **Given the mean, standard deviation, and excess kurtosis of the integrated profile, can we predict if a star is pulsar or if it is a spurious signal?**"
   ]
  },
  {
   "cell_type": "markdown",
   "id": "7d28fa36-399b-4cac-b3fa-d660c1076c46",
   "metadata": {},
   "source": [
    "### Methods and Results"
   ]
  },
  {
   "cell_type": "code",
   "execution_count": 3,
   "id": "f4f83911-71fc-47d7-a00a-38c6253edbab",
   "metadata": {},
   "outputs": [],
   "source": [
    "# some code "
   ]
  },
  {
   "cell_type": "markdown",
   "id": "07f92232-1d4f-4682-ae59-db3a1460e218",
   "metadata": {},
   "source": [
    "some explanations"
   ]
  },
  {
   "cell_type": "markdown",
   "id": "4c500cf9-5de6-4948-a18e-8e63b11b9263",
   "metadata": {},
   "source": [
    "### Discussion"
   ]
  },
  {
   "cell_type": "markdown",
   "id": "7291e065-fcf9-4fdc-a21d-82c95a532184",
   "metadata": {},
   "source": [
    "asdfghj"
   ]
  },
  {
   "cell_type": "markdown",
   "id": "c96ce93d-c270-4e52-8b28-dc2c0a1f405b",
   "metadata": {},
   "source": [
    "### References"
   ]
  },
  {
   "cell_type": "markdown",
   "id": "b170658b-ca1e-4264-854d-337f7ec9b043",
   "metadata": {},
   "source": [
    "asdfg"
   ]
  },
  {
   "cell_type": "code",
   "execution_count": null,
   "id": "d9abfeef-4d33-4e18-9611-fbd91bda5c40",
   "metadata": {},
   "outputs": [],
   "source": []
  }
 ],
 "metadata": {
  "kernelspec": {
   "display_name": "R",
   "language": "R",
   "name": "ir"
  },
  "language_info": {
   "codemirror_mode": "r",
   "file_extension": ".r",
   "mimetype": "text/x-r-source",
   "name": "R",
   "pygments_lexer": "r",
   "version": "4.3.1"
  }
 },
 "nbformat": 4,
 "nbformat_minor": 5
}
