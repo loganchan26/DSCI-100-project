{
 "cells": [
  {
   "cell_type": "markdown",
   "id": "0b27523e-680a-414c-a7e8-b435abad2972",
   "metadata": {},
   "source": [
    "## Predicting Pulsars: Mean, Standard Deviation and Kurtosis Analysis"
   ]
  },
  {
   "cell_type": "markdown",
   "id": "a4147439-b95c-4b6f-a6a3-5efce57d12d1",
   "metadata": {},
   "source": [
    "**Logan Chan, Sam Donato, Navneet Bedi, Ahadjon Sultonov**"
   ]
  },
  {
   "cell_type": "markdown",
   "id": "6d27f9f4-ce3c-4294-bc3f-2cc43df1098c",
   "metadata": {},
   "source": [
    "### Introduction"
   ]
  },
  {
   "cell_type": "markdown",
   "id": "e2c3d298-4923-4eba-af43-84623d02a324",
   "metadata": {},
   "source": [
    "Pulsars were first discovered in 1967 by astronomers Jocelyn Bell Burnell and Antony Hewish (American Physical Society, 2006). \n",
    "\n",
    "A pulsar is a rotating neutron star that is highly magnetized, causing them to emit beams of radiation. These stars provided the first indirect evidence for the existence of gravitational waves. Pulsar stars also have the potential to reveal extreme phenomena in neutron star astrophysics (Zhang et al., 2020. "
   ]
  },
  {
   "cell_type": "markdown",
   "id": "02e39377-752c-4501-ae1d-457e516e9a66",
   "metadata": {},
   "source": [
    "Thus, in effect, pulsars can be thought of as 'cosmic lighthouses.'\n",
    "\n",
    "These beams can appear to pulse as the star rotates, but other astronomical phenomena in space can mimic these pulsar signals, which we call spurious signals. The spurious signals can be challenging to identify and seperate from pulsar signals (Gaskill, 2020). "
   ]
  },
  {
   "cell_type": "markdown",
   "id": "85176650-863f-4895-bc0b-7984108d7e8b",
   "metadata": {},
   "source": [
    "The goal of this project will be to use variables from the HTRU2 UC Irvine Machine Learning Repository Pulsar Star Dataset to classify whether a star is pulsar or not.\n",
    "\n",
    "HTRU2 is a data set which describes a sample of pulsar candidates collected during the High Time Resolution Universe Survey (South). The data set shared contains 16,259 spurious examples caused by RFI/noise, and 1,639 real pulsar examples (Lyon, 2017).  In the data set, legitimate pulsar examples are a minority positive class, and spurious examples are the majority negative class. The class labels used are 0 (negative) and 1 (positive). Due to the number of predictor variables, we only chose a few potentially important predictors to focus on for the preliminary analysis."
   ]
  },
  {
   "cell_type": "markdown",
   "id": "4a72ac0e-aa0d-4093-ad25-ed7adaebe3cc",
   "metadata": {},
   "source": [
    "The question we will be addressing is: **Given the mean, standard deviation, and excess kurtosis of the integrated profile, can we predict if a star is pulsar or if it is a spurious signal?**\n",
    "To answer this question, we will be using the knn classifier algorithm.\n"
   ]
  },
  {
   "cell_type": "markdown",
   "id": "df649f2c-bf18-4eb1-8658-3284062d8917",
   "metadata": {},
   "source": [
    "### Preliminary Data Analysis and Methods"
   ]
  },
  {
   "cell_type": "markdown",
   "id": "78c0ad53-aa0f-4960-b2d7-8a1e2073a662",
   "metadata": {},
   "source": [
    "We are using the HTRU_2.csv data from the UC Irvine Machine Learning Repository Pulsar Star Dataset to predict if a star is a pulsar or a spurious signal. The columns are as follows:\n",
    "\n",
    "1. Mean of the integrated profile.\r\n",
    "2. Standard deviation of the integrated profile.\r\n",
    "3. Excess kurtosis of the integrated profile.\r\n",
    "4. Skewness of the integrated profile.\r\n",
    "5. Mean of the DM-SNR curve.\r\n",
    "6. Standard deviation of the DM-SNR curve.\r\n",
    "7. Excess kurtosis of the DM-SNR curve.\r\n",
    "8. Skewness of the DM-SNR\n",
    "9. ve.\r\n",
    "\n",
    "\n",
    "The following columns are those being used in this project:\n",
    "\n",
    "1. **mean_ip**: Mean of the integrated profile,\n",
    "2. **std_dev_ip**: Standard deviation of the integrated profile,\n",
    "4. **kurtosis_ip**: Excess kurtosis of the integrated profile,\n",
    "5. **type**: Class of a star ( 0 = **spurious signal**, 1 = **pulsar**)pulsar**). Class\r\n"
   ]
  },
  {
   "cell_type": "markdown",
   "id": "51d8e667-3eac-4a7e-8d8b-fd174e1f8237",
   "metadata": {},
   "source": [
    "### Preprocessing and conducting exploratory data analysis on the data\n",
    "\n",
    "The first step involved importing libraries and acquiring the dataset from the internet into a file, pulsar_data.csv.\r\n",
    "\r\n",
    "Afterwards, the dataset was cleaned and organized to enhaetits e usability. This included assigning appropriate column types and introducing a new comnlu  ## what is our new column? \".\r\n",
    "\r\n",
    "The data was then divided into training and testing sets, with focus primarily on the training set until the final stages.\r\n",
    "\r\n",
    "Summarization of the training set was performed to inform predictions regarding the desired behavior of our classifier.\r\n",
    "\r\n",
    "Furthermore, visualizations were created to explore the relationship \"mean_ip\", \"std_dev_ip\"d \"kurtosis_ip\", an,pchol\", providing insights into the distribution of .ributed."
   ]
  },
  {
   "cell_type": "markdown",
   "id": "8d9f4676-d16d-413e-bca6-21094e6d6823",
   "metadata": {},
   "source": [
    "### Results"
   ]
  },
  {
   "cell_type": "markdown",
   "id": "8ef49730-e0b1-4fbb-8ce9-a377063c6ea2",
   "metadata": {},
   "source": [
    "##### First, the required libraries are loaded using the library function."
   ]
  },
  {
   "cell_type": "code",
   "execution_count": null,
   "id": "d3375786-752f-4741-9210-b8bc57c9e108",
   "metadata": {},
   "outputs": [
    {
     "name": "stderr",
     "output_type": "stream",
     "text": [
      "Warning message:\n",
      "“package ‘ggplot2’ was built under R version 4.3.2”\n"
     ]
    }
   ],
   "source": [
    "library(tidyverse)\n",
    "library(repr)\n",
    "library(tidymodels)\n",
    "library(cowplot)\n",
    "library(RColorBrewer)"
   ]
  },
  {
   "cell_type": "markdown",
   "id": "ad92ba9b-d726-4ba0-8699-0290ca12612a",
   "metadata": {},
   "source": [
    "##### Next, using the read_csv function, we can read in the data from the web. "
   ]
  },
  {
   "cell_type": "code",
   "execution_count": null,
   "id": "98f9a666-c411-4ea8-b1bd-cbc108f59878",
   "metadata": {},
   "outputs": [],
   "source": [
    "## Download dataset from the internet\n",
    "url <- \"https://raw.githubusercontent.com/loganchan26/DSCI-100-project-group10-18/03a96760928865bfb961dc8ea308d3b129a82baf/HTRU_2.csv\"\n",
    "download.file(url, \"data/pulsar_data.csv\")\n",
    "\n",
    "## Read the file in to visualize the data we are working with\n",
    "pulsar_data <- read_csv(\"data/pulsar_data.csv\", col_names = FALSE)"
   ]
  },
  {
   "cell_type": "markdown",
   "id": "d776068d-14cc-468b-8d95-5332c7ed11b5",
   "metadata": {},
   "source": [
    "#### Cleaning and tidying the data"
   ]
  },
  {
   "cell_type": "code",
   "execution_count": null,
   "id": "ff62eede-7dfd-4ccd-ac71-e0fd2bcc2a69",
   "metadata": {},
   "outputs": [],
   "source": [
    "names(pulsar_data) <- c(\"mean_ip\", \"std_dev_ip\", \"kurtosis_ip\", \"skew_ip\", \"mean_curve\", \"std_dev_curve\", \"kurtosis_curve\", \"skew_curve\", \"type\")\n",
    "\n",
    "pulsar_data_selected <- pulsar_data |> \n",
    "select(\"mean_ip\", \"std_dev_ip\", \"kurtosis_ip\", \"type\") |>\n",
    "mutate(type = as_factor(type)) \n",
    "glimpse(pulsar_data_selected)"
   ]
  },
  {
   "cell_type": "markdown",
   "id": "9afaddfe-98be-4a53-9102-d9a5fb3d232f",
   "metadata": {},
   "source": [
    "#### Exploratory data analysis summary"
   ]
  },
  {
   "cell_type": "code",
   "execution_count": null,
   "id": "17766fa7-3f47-4906-8664-de137359d2d3",
   "metadata": {},
   "outputs": [],
   "source": [
    "## mean of each variable\n",
    "mean_vars <- pulsar_data_selected |>\n",
    "            mutate(avg_mean_ip = mean(mean_ip)) |>\n",
    "            mutate(avg_std_dev_ip = mean(std_dev_ip)) |>\n",
    "            mutate(avg_kurtosis_ip = mean(kurtosis_ip)) |>\n",
    "            select(\"avg_mean_ip\", \"avg_std_dev_ip\", \"avg_kurtosis_ip\") |>\n",
    "            slice(1)\n",
    "mean_vars\n",
    "\n",
    "# number of each observation\n",
    "num_observations <- pulsar_data_selected |>\n",
    "                    group_by(type) |>\n",
    "                    summarize(count = n())\n",
    "num_observations"
   ]
  },
  {
   "attachments": {},
   "cell_type": "markdown",
   "id": "ea721960-26cd-4c6e-bd4d-7897f2b27066",
   "metadata": {},
   "source": [
    "#### Exploratory Visualizations"
   ]
  },
  {
   "cell_type": "code",
   "execution_count": null,
   "id": "faa9eaa8-ed3a-4969-8c98-cb26422829e6",
   "metadata": {},
   "outputs": [],
   "source": [
    "options(repr.plot.width = 15, repr.plot.height = 7)\n",
    "## distribution of mean integrated profiles\n",
    "mean_ip_histogram <- pulsar_data_selected |>\n",
    "    ggplot(aes(x = mean_ip)) +\n",
    "        geom_histogram(bins = 15) +\n",
    "        labs(x = \"Mean\", y = \"Number of Observations\") +\n",
    "        ggtitle(\"Integrated Profile Mean Distribution Histogram\") +\n",
    "        theme(text = element_text(size = 11))\n",
    "\n",
    "## distribution of standard deviations\n",
    "std_dev_histogram <- pulsar_data_selected |>\n",
    "    ggplot(aes(x = std_dev_ip)) +\n",
    "        geom_histogram(bins = 15) +\n",
    "        labs(x = \"Standard deviation\", y = \"Number of Observations\") +\n",
    "        ggtitle(\"Integrated Profile Standard Deviation Histogram\") +\n",
    "        theme(text = element_text(size = 11))\n",
    "\n",
    "## distribution of average kurtosis\n",
    "avg_kurtosis_histogram <- pulsar_data_selected |>\n",
    "    ggplot(aes(x = kurtosis_ip)) +\n",
    "        geom_histogram(bins = 15) +\n",
    "        labs(x = \"Average kurtosis\", y = \"Number of Observations\") +\n",
    "        ggtitle(\"Integrated Profile Average Kurtosis Histogram\") +\n",
    "        theme(text = element_text(size = 11))\n",
    "plot_grid(mean_ip_histogram, std_dev_histogram, avg_kurtosis_histogram, ncol = 3)"
   ]
  },
  {
   "cell_type": "markdown",
   "id": "4a5ed800-a6c0-461d-bca7-534c6c8fa983",
   "metadata": {},
   "source": [
    "#### Visualization of the relationships between the Predictors and the Class variables"
   ]
  },
  {
   "cell_type": "code",
   "execution_count": null,
   "id": "64b5da21-079b-4beb-981c-8188b5ccc9d2",
   "metadata": {},
   "outputs": [],
   "source": [
    "##GGPLOT THE DATA WE HAVE "
   ]
  },
  {
   "cell_type": "markdown",
   "id": "5f603b99-bd2c-4dbd-afc4-c829d72bcc84",
   "metadata": {},
   "source": [
    "EXPLANATION"
   ]
  },
  {
   "cell_type": "markdown",
   "id": "5ee93f92-7335-411f-9ba6-f06adb00f4fb",
   "metadata": {},
   "source": [
    "#### Training and splitting the data "
   ]
  },
  {
   "cell_type": "code",
   "execution_count": null,
   "id": "2d31694a-e1cd-47e3-b162-80e419dec2a8",
   "metadata": {},
   "outputs": [],
   "source": [
    "set.seed(18)\n",
    "pulsar_split <- initial_split(pulsar_data_selected, prop = 0.75, strata = type)\n",
    "pulsar_training <- training(pulsar_split)\n",
    "pulsar_testing  <- testing(pulsar_split)"
   ]
  },
  {
   "cell_type": "markdown",
   "id": "e2393d79-b4de-49aa-9bf1-077093e16fc4",
   "metadata": {},
   "source": [
    "explanation of what we see"
   ]
  },
  {
   "cell_type": "markdown",
   "id": "e2fb1a90-f071-43ea-b29d-6f06b3473b62",
   "metadata": {},
   "source": [
    "#### Finding the Best K Value "
   ]
  },
  {
   "cell_type": "code",
   "execution_count": null,
   "id": "8dcce368-7936-4a5c-9f70-7dc2c53f5ce7",
   "metadata": {},
   "outputs": [],
   "source": [
    "## Cross validation to tune k\n",
    "set.seed(18)\n",
    "\n",
    "pulsar_vfold <- vfold_cv(pulsar_training, v = 5, strata = type)\n",
    "\n",
    "## create recipe\n",
    "pulsar_recipe <- recipe(type~ mean_ip, std_dev_ip, kurtosis_ip, data = pulsar_training) |>\n",
    "                step_scale(all_predictors()) |>\n",
    "                step_center(all_predictors())\n",
    "\n",
    "## set specification\n",
    "knn_spec <- nearest_neighbor(weight_func = \"rectangular\", neighbors = tune()) |>\n",
    "            set_engine(\"kknn\") |>\n",
    "            set_mode(\"classification\")\n",
    "\n",
    "k_vals <- tibble(neighbors = seq(from = 1, to = 15, by = 1))\n",
    "\n",
    "knn_results <- workflow() |>\n",
    "                add_recipe(pulsar_recipe) |>\n",
    "                add_model(knn_spec) |>\n",
    "                tune_grid(resamples = pulsar_vfold, grid = k_vals) |>\n",
    "                collect_metrics()\n",
    "# glimpse(knn_results)\n",
    "\n",
    "accuracies <- knn_results |>\n",
    "            filter(.metric == \"accuracy\") |>\n",
    "            arrange(desc(mean))\n",
    "slice(accuracies, 1)\n",
    "## use k = 12 for best results"
   ]
  },
  {
   "cell_type": "markdown",
   "id": "ebc23d64-3b47-4f60-afd7-7925510e882e",
   "metadata": {},
   "source": [
    "#### Creating our Model\n",
    "STEPS>>>"
   ]
  },
  {
   "cell_type": "code",
   "execution_count": null,
   "id": "f4f83911-71fc-47d7-a00a-38c6253edbab",
   "metadata": {},
   "outputs": [],
   "source": [
    "# can reuse pulsar_recipe from above cell\n",
    "pulsar_spec <- nearest_neighbor(weight_func = \"rectangular\", neighbors = 12) |>\n",
    "  set_engine(\"kknn\") |>\n",
    "  set_mode(\"classification\")\n",
    "\n",
    "pulsar_fit <- workflow() |>\n",
    "  add_recipe(pulsar_recipe) |>\n",
    "  add_model(pulsar_spec) |>\n",
    "  fit(data = pulsar_training)"
   ]
  },
  {
   "cell_type": "markdown",
   "id": "07f92232-1d4f-4682-ae59-db3a1460e218",
   "metadata": {},
   "source": [
    "some explanations"
   ]
  },
  {
   "cell_type": "markdown",
   "id": "57a49126-0bde-4662-ba2b-6416293cabe3",
   "metadata": {},
   "source": [
    "#### Use model to predict testing set"
   ]
  },
  {
   "cell_type": "code",
   "execution_count": null,
   "id": "595df881-200c-4ae6-a382-09ac90330591",
   "metadata": {},
   "outputs": [],
   "source": [
    "set.seed(18) \n",
    "\n",
    "pulsar_predictions <- predict(pulsar_fit, pulsar_testing) |>\n",
    "                    bind_cols(pulsar_testing)\n",
    "\n",
    "pulsar_metrics <- pulsar_predictions |>\n",
    "                metrics(truth = type, estimate = .pred_class)\n",
    "pulsar_metrics\n",
    "\n",
    "#do we need this confusion matrix?\n",
    "pulsar_conf_mat <- pulsar_predictions |>\n",
    "                    conf_mat(truth = type, estimate = .pred_class)"
   ]
  },
  {
   "cell_type": "markdown",
   "id": "7c4b5cc3-c7a9-4f84-ba66-6e06f5cb3318",
   "metadata": {},
   "source": [
    "#### Visualization of Accuracy obtained with best K values"
   ]
  },
  {
   "cell_type": "code",
   "execution_count": null,
   "id": "0fd28bf3-970c-4942-bdd0-5a27225bf7df",
   "metadata": {},
   "outputs": [],
   "source": [
    "ANOTHER GGPLOT (geom point + geom line)"
   ]
  },
  {
   "cell_type": "markdown",
   "id": "4c500cf9-5de6-4948-a18e-8e63b11b9263",
   "metadata": {},
   "source": [
    "### Discussion"
   ]
  },
  {
   "cell_type": "markdown",
   "id": "7291e065-fcf9-4fdc-a21d-82c95a532184",
   "metadata": {},
   "source": [
    "asdfghj"
   ]
  },
  {
   "cell_type": "markdown",
   "id": "c96ce93d-c270-4e52-8b28-dc2c0a1f405b",
   "metadata": {},
   "source": [
    "### References"
   ]
  },
  {
   "cell_type": "markdown",
   "id": "b170658b-ca1e-4264-854d-337f7ec9b043",
   "metadata": {},
   "source": [
    "Cheng Jun Zhang, Zhen Hong Shang, Wan Min Chen, Liu Xie, Xiang Hua Miao, A Review of Research on Pulsar Candidate Recognition Based on Machine Learning, Procedia Computer Science, Volume 166, 2020, Pages 534-538, ISSN 1877-0509, https://doi.org/10.1016/j.procs.2020.02.050.\r\n",
    "\r\n",
    "Chodos, Alan. (February 2006). American Physical Society. APS News, Volume 15, Number 2). https://www.aps.org/publications/apsnews/200602/history.cfm\r\n",
    "\r\n",
    "Gaskill, Melissa. (June 22, 2020). Phys.org https://phys.org/news/2020-06-future-space-cosmic-lighthouses.html\r\n",
    "\r\n",
    "Lyon, Robert. (2017). HTRU2. UCI Machine Learning Repository. https://doi.org/10.24432/C5DK6R"
   ]
  }
 ],
 "metadata": {
  "kernelspec": {
   "display_name": "R",
   "language": "R",
   "name": "ir"
  },
  "language_info": {
   "codemirror_mode": "r",
   "file_extension": ".r",
   "mimetype": "text/x-r-source",
   "name": "R",
   "pygments_lexer": "r",
   "version": "4.3.1"
  }
 },
 "nbformat": 4,
 "nbformat_minor": 5
}
