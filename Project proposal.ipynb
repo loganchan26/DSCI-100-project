{
 "cells": [
  {
   "cell_type": "markdown",
   "id": "9ec8940a-a15f-4c0c-b4f8-3205113e5f89",
   "metadata": {},
   "source": [
    "## Predicting Pulsars: Mean, Standard Deviation and Kurtosis Analysis"
   ]
  },
  {
   "cell_type": "markdown",
   "id": "2601858a-5d46-4a37-9536-a977a0cf2838",
   "metadata": {},
   "source": [
    "**Logan Chan, Sam Donato, Navneet Bedi, Ahadjon Sultonov**"
   ]
  },
  {
   "cell_type": "markdown",
   "id": "e650e248-ccc4-4433-b57e-a76f9e057e50",
   "metadata": {},
   "source": [
    "### Introduction"
   ]
  },
  {
   "cell_type": "markdown",
   "id": "f77a465e-1d2d-41c9-aae8-87678277e2c6",
   "metadata": {},
   "source": [
    "Pulsars were first discovered in 1967 by astronomers Jocelyn Bell Burnell and Antony Hewish (American Physical Society, 2006). \n",
    "\n",
    "The pulsar is a highly magnetized rotating neutron star which cause them to emit beams of radiation, that provide the first indirect evidence for the existence of gravitational waves. Pulsar stars also have the potential to reveal extreme phenomena in neutron star astrophysics (Zhang et al., 2020). "
   ]
  },
  {
   "cell_type": "markdown",
   "id": "ae4e8781-d5b0-4344-9af9-69d6b0818deb",
   "metadata": {},
   "source": [
    "Thus, in effect, pulsars can be thought of as 'cosmic lighthouses.'\n",
    "\n",
    "These beams can appear to pulse as the star rotates, but other astronomical phenomena in space can mimic these pulsar signals, which we call spurious signals. The spurious signals can be challenging to identify and seperate from pulsar signals (Gaskill, 2020). "
   ]
  },
  {
   "cell_type": "markdown",
   "id": "c896db91-33e8-4b9f-ac77-e19b3d0f0f5c",
   "metadata": {},
   "source": [
    "The goal of this project will be to use variables from the UC Irvine Machine Learning Repository Pulsar Star Dataset to classify whether a star is pulsar or not."
   ]
  },
  {
   "cell_type": "markdown",
   "id": "fced8f08-6d72-4eb3-8abd-d316d234ff50",
   "metadata": {},
   "source": [
    "The question we will be addressing is: **Given the mean, standard deviation, and excess kurtosis of the integrated profile, can we predict if a star is pulsar or if it is a spurious signal?**"
   ]
  },
  {
   "cell_type": "markdown",
   "id": "e4f61391-7bad-4edc-99e9-afa6528ee2c0",
   "metadata": {},
   "source": [
    "### Preliminary Data Analysis"
   ]
  },
  {
   "cell_type": "code",
   "execution_count": 18,
   "id": "dcaf9b5c-11db-465a-934d-5773c77bad1b",
   "metadata": {},
   "outputs": [
    {
     "name": "stderr",
     "output_type": "stream",
     "text": [
      "\u001b[1mRows: \u001b[22m\u001b[34m17897\u001b[39m \u001b[1mColumns: \u001b[22m\u001b[34m9\u001b[39m\n",
      "\u001b[36m──\u001b[39m \u001b[1mColumn specification\u001b[22m \u001b[36m────────────────────────────────────────────────────────\u001b[39m\n",
      "\u001b[1mDelimiter:\u001b[22m \",\"\n",
      "\u001b[32mdbl\u001b[39m (9): 140.5625, 55.68378214, -0.234571412, -0.699648398, 3.199832776, 19....\n",
      "\n",
      "\u001b[36mℹ\u001b[39m Use `spec()` to retrieve the full column specification for this data.\n",
      "\u001b[36mℹ\u001b[39m Specify the column types or set `show_col_types = FALSE` to quiet this message.\n"
     ]
    },
    {
     "name": "stdout",
     "output_type": "stream",
     "text": [
      "Rows: 17,897\n",
      "Columns: 4\n",
      "$ mean_ip     \u001b[3m\u001b[90m<dbl>\u001b[39m\u001b[23m 102.50781, 103.01562, 136.75000, 88.72656, 93.57031, 119.4…\n",
      "$ std_dev_ip  \u001b[3m\u001b[90m<dbl>\u001b[39m\u001b[23m 58.88243, 39.34165, 57.17845, 40.67223, 46.69811, 48.76506…\n",
      "$ kurtosis_ip \u001b[3m\u001b[90m<dbl>\u001b[39m\u001b[23m 0.46531815, 0.32332837, -0.06841464, 0.60086608, 0.5319048…\n",
      "$ type        \u001b[3m\u001b[90m<dbl>\u001b[39m\u001b[23m 0, 0, 0, 0, 0, 0, 0, 0, 0, 0, 0, 0, 0, 0, 0, 0, 0, 0, 1, 0…\n"
     ]
    }
   ],
   "source": [
    "## Load libraries\n",
    "library(tidyverse)\n",
    "library(repr)\n",
    "library(tidymodels)\n",
    "\n",
    "set.seed(18)\n",
    "\n",
    "## Download dataset from the internet\n",
    "url <- \"https://raw.githubusercontent.com/loganchan26/DSCI-100-project-group10-18/03a96760928865bfb961dc8ea308d3b129a82baf/HTRU_2.csv\"\n",
    "download.file(url, \"data/pulsar_data.csv\")\n",
    "pulsar_data <- read_csv(\"data/pulsar_data.csv\")\n",
    "\n",
    "## rename columns and select columns of interest (no more tidying needed?)\n",
    "colnames(pulsar_data) <- c(\"mean_ip\", \"std_dev_ip\", \"kurtosis_ip\", \"skew_ip\", \"mean_curve\", \"std_dev_curve\", \"kurtosis_curve\", \"skew_curve\", \"type\") \n",
    "pulsar_data_selected <- pulsar_data |> select(\"mean_ip\", \"std_dev_ip\", \"kurtosis_ip\", \"type\")\n",
    "#glimpse(pulsar_data_selected)\n",
    "\n",
    "## split set into training and testing\n",
    "pulsar_split <- initial_split(pulsar_data_selected, prop = 0.75, strata = type)\n",
    "pulsar_training <- training(pulsar_split)\n",
    "pulsar_testing  <- testing(pulsar_split)\n",
    "\n",
    "##summarize data into table(s) - mean of each obs type\n",
    "\n",
    "## visualize data into scatterplot - distribution of each variable\n"
   ]
  },
  {
   "cell_type": "markdown",
   "id": "966476b3-a889-4b9d-8bfe-95222e8654f4",
   "metadata": {},
   "source": [
    "### Bibliography"
   ]
  },
  {
   "cell_type": "markdown",
   "id": "1530c34d-837f-40fd-b447-846858ded22b",
   "metadata": {},
   "source": [
    "Cheng Jun Zhang, Zhen Hong Shang, Wan Min Chen, Liu Xie, Xiang Hua Miao, A Review of Research on Pulsar Candidate Recognition Based on Machine Learning, Procedia Computer Science, Volume 166, 2020, Pages 534-538, ISSN 1877-0509, https://doi.org/10.1016/j.procs.2020.02.050."
   ]
  },
  {
   "cell_type": "markdown",
   "id": "52a35737-c6cd-4615-9c99-fd3884543283",
   "metadata": {},
   "source": [
    "https://www.aps.org/publications/apsnews/200602/history.cfm#:~:text=February%201968%3A%20The%20Discovery%20of,signal%20from%20an%20extraterrestrial%20civilization"
   ]
  },
  {
   "cell_type": "markdown",
   "id": "b7ba097f-19ef-427e-a826-cbb909a78b4a",
   "metadata": {},
   "source": [
    "https://phys.org/news/2020-06-future-space-cosmic-lighthouses.html "
   ]
  }
 ],
 "metadata": {
  "kernelspec": {
   "display_name": "R",
   "language": "R",
   "name": "ir"
  },
  "language_info": {
   "codemirror_mode": "r",
   "file_extension": ".r",
   "mimetype": "text/x-r-source",
   "name": "R",
   "pygments_lexer": "r",
   "version": "4.3.1"
  }
 },
 "nbformat": 4,
 "nbformat_minor": 5
}
